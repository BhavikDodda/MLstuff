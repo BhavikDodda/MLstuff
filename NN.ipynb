{
 "cells": [
  {
   "cell_type": "code",
   "execution_count": 2,
   "metadata": {},
   "outputs": [],
   "source": [
    "import numpy as np\n",
    "def b_dense(x_inp,w,b,activation):\n",
    "    x_inp=np.array(x_inp).reshape(1,-1)\n",
    "    w=np.array(w).T\n",
    "    b=np.array(b).reshape(1,-1)\n",
    "    Z=np.matmul(x_inp,w)+b\n",
    "\n",
    "    return activation(Z),Z"
   ]
  },
  {
   "cell_type": "code",
   "execution_count": 3,
   "metadata": {},
   "outputs": [],
   "source": [
    "import math\n",
    "def b_sigmoid(x_inp,diff=False):\n",
    "    def singleSigmoid(z1):\n",
    "        return (1/(1+math.exp(-z1)))\n",
    "    def derivative(z1):\n",
    "        temp1=singleSigmoid(z1)\n",
    "        return (temp1*(1-temp1))\n",
    "    if diff:\n",
    "        return np.vectorize(derivative)(x_inp)\n",
    "    else:\n",
    "        return np.vectorize(singleSigmoid)(x_inp) #https://stackoverflow.com/a/62865571\n",
    "def b_linear(x_inp):\n",
    "    return x_inp\n",
    "def b_threshold(x_inp):\n",
    "    return np.vectorize((lambda a:1 if a>0 else 0))(x_inp)"
   ]
  },
  {
   "cell_type": "code",
   "execution_count": 4,
   "metadata": {},
   "outputs": [],
   "source": [
    "def b_sequential(x_inp,Weights,Biases,Activation):\n",
    "    f_x=x_inp\n",
    "    Zs=[]\n",
    "    for i in range(len(Activation)):\n",
    "        f_x,z_x=(b_dense)(f_x,Weights[i],Biases[i],Activation[i])\n",
    "        #print(f'Layer {i+1}: {f_x}')\n",
    "        Zs.append(z_x)\n",
    "    return f_x,Zs"
   ]
  },
  {
   "cell_type": "code",
   "execution_count": 5,
   "metadata": {},
   "outputs": [
    {
     "data": {
      "text/plain": [
       "array([[1, 2, 3]])"
      ]
     },
     "execution_count": 5,
     "metadata": {},
     "output_type": "execute_result"
    }
   ],
   "source": [
    "np.array([1,2,3]).reshape(1,-1)"
   ]
  },
  {
   "cell_type": "code",
   "execution_count": 6,
   "metadata": {},
   "outputs": [],
   "source": [
    "def XOR(x_inp):\n",
    "    output,layers=b_sequential(x_inp,[[[1,1],[-1,-1]],[[1,1]]],[[-0.5,1.5],[-1.5]],[b_threshold for i in range(2)])\n",
    "    return output,layers"
   ]
  },
  {
   "cell_type": "code",
   "execution_count": 7,
   "metadata": {},
   "outputs": [
    {
     "name": "stdout",
     "output_type": "stream",
     "text": [
      "[array([[0.5, 0.5]]), array([[0.5]])]\n",
      "[[1]]\n"
     ]
    }
   ],
   "source": [
    "output0,layers0=XOR([1,0])\n",
    "print(layers0)\n",
    "print(output0)"
   ]
  },
  {
   "cell_type": "code",
   "execution_count": 8,
   "metadata": {},
   "outputs": [
    {
     "name": "stdout",
     "output_type": "stream",
     "text": [
      "[[0.75136507 0.77292847]]\n"
     ]
    }
   ],
   "source": [
    "def Vid(x_inp):\n",
    "    output=b_sequential(x_inp,[[[0.15,0.2],[0.25,0.3]],[[0.4,0.45],[0.5,0.55]]],[[0.35,0.35],[0.6,0.6]],[b_sigmoid for i in range(2)])\n",
    "    return output\n",
    "o1,k1=(Vid([[0.05,0.1]]))\n",
    "print(o1)"
   ]
  },
  {
   "cell_type": "code",
   "execution_count": 9,
   "metadata": {},
   "outputs": [],
   "source": [
    "def b_error(output,target):\n",
    "    return 0.5*sum([(target[i]-output[i])**2 for i in range(len(target))])"
   ]
  },
  {
   "cell_type": "code",
   "execution_count": 10,
   "metadata": {},
   "outputs": [],
   "source": [
    "def updateVal(a,b,step):\n",
    "    return [list(ai + step * bi for ai, bi in zip(sub_a, sub_b)) for sub_a, sub_b in zip(a, b)]"
   ]
  },
  {
   "cell_type": "code",
   "execution_count": 47,
   "metadata": {},
   "outputs": [
    {
     "name": "stdout",
     "output_type": "stream",
     "text": [
      "Cost at #0: 0.2983711087600027\n",
      "Cost at #1000: 0.0005293050647483635\n",
      "Cost at #2000: 0.00020234929960956187\n",
      "Cost at #3000: 0.00010966681148919185\n",
      "Cost at #4000: 6.87534279711634e-0551\n",
      "Cost at #5000: 4.6740499485988055e-05\n",
      "Cost at #6000: 3.3466458714951895e-05\n",
      "Cost at #7000: 2.484331084615929e-055\n",
      "Cost at #8000: 1.893952730947949e-055\n",
      "Cost at #9000: 1.4736785000499719e-05\n",
      "[array([0.45012298, 0.42603668]), array([-3.58148843,  2.95694113])]\n",
      "[array([[0.15500615, 0.2100123 ],\n",
      "       [0.25380183, 0.30760367]]), array([[-0.60524948, -0.55476091],\n",
      "       [ 1.0638736 ,  1.11423444]])]\n",
      "([array([[0.15500615, 0.2100123 ],\n",
      "       [0.25380183, 0.30760367]]), array([[-0.60524948, -0.55476091],\n",
      "       [ 1.0638736 ,  1.11423444]])], [array([0.45012298, 0.42603668]), array([-3.58148843,  2.95694113])])\n"
     ]
    }
   ],
   "source": [
    "def b_backprop(x_inps,Weights,Biases,Activation,Targets,lambda_):\n",
    "    BiasesOutput=[np.array(b00) for b00 in Biases]\n",
    "    WeightsOutput=[np.array(w00) for w00 in Weights]\n",
    "\n",
    "    TrainSize=len(Targets)\n",
    "    for gradientDescent in range(10000):\n",
    "        \n",
    "        cost=0\n",
    "        delCdelB=[np.zeros(len(Biases[b00])) for b00 in range(len(Biases))]\n",
    "        delCdelW=[np.array(w00)*0 for w00 in Weights]\n",
    "        for i in range(TrainSize):\n",
    "            Weights=WeightsOutput\n",
    "            Biases=BiasesOutput\n",
    "\n",
    "            outputi,layersi=b_sequential(x_inps[i],Weights,Biases,Activation)\n",
    "            cost+= b_error(outputi[0],Targets[i])\n",
    "            delCdelzcurr=[((outputi[0]-Targets[i])*Activation[-1](layersi[-1][0],diff=True))]\n",
    "            for ll in range(len(Biases)-1,0,-1):\n",
    "                nextLayers=np.array(delCdelzcurr[0])\n",
    "                outWeights=np.array(Weights[ll])\n",
    "                delCdelzcurr.insert(0,np.matmul(nextLayers,outWeights)*Activation[ll](layersi[ll][0],diff=True))\n",
    "            #print(delCdelzcurr)\n",
    "\n",
    "            delCdelwcurr=[]\n",
    "            for j in range(len(Weights)):\n",
    "                if j==0:\n",
    "                    delCdelwcurr.append(np.matmul(np.array([delCdelzcurr[j]]).T,np.array([x_inps[i]])))\n",
    "                else:\n",
    "                    delCdelwcurr.append(np.matmul(np.array([delCdelzcurr[j]]).T,np.array([Activation[j-1](layersi[j-1][0],diff=True)])))\n",
    "\n",
    "            #print(delCdelwcurr)\n",
    "\n",
    "            delCdelB=[delCdelB[b00]+delCdelzcurr[b00] for b00 in range(len(Biases))]\n",
    "            delCdelW=[delCdelW[w00]+delCdelwcurr[w00] for w00 in range(len(Weights))]\n",
    "            #\n",
    "        cost=cost/TrainSize\n",
    "        print(f\"Cost at #{gradientDescent}: {cost}\\r\",end='')\n",
    "        if gradientDescent%1000==0:\n",
    "            print(f\"Cost at #{gradientDescent}: {cost}\")\n",
    "\n",
    "\n",
    "        BiasesOutput=[BiasesOutput[b00]-(lambda_/TrainSize)*delCdelB[b00] for b00 in range(len(Biases))]\n",
    "        WeightsOutput=[WeightsOutput[b00]-(lambda_/TrainSize)*delCdelW[b00] for b00 in range(len(Biases))]\n",
    "\n",
    "    print(BiasesOutput)\n",
    "    print(WeightsOutput)\n",
    "    return WeightsOutput,BiasesOutput\n",
    "            \n",
    "\n",
    "\n",
    "\n",
    "\n",
    "\n",
    "print(b_backprop([[0.05,0.1]],[[[0.15,0.2],[0.25,0.3]],[[0.4,0.45],[0.5,0.55]]],[[0.35,0.35],[0.6,0.6]],[b_sigmoid for i in range(2)],[[0.01, 0.99]],0.5))"
   ]
  },
  {
   "cell_type": "code",
   "execution_count": null,
   "metadata": {},
   "outputs": [
    {
     "data": {
      "text/plain": [
       "[]"
      ]
     },
     "execution_count": 39,
     "metadata": {},
     "output_type": "execute_result"
    }
   ],
   "source": [
    "a=([[1],[2,3]])\n",
    "updateVal(0*a,a,1)"
   ]
  },
  {
   "cell_type": "code",
   "execution_count": null,
   "metadata": {},
   "outputs": [
    {
     "data": {
      "text/plain": [
       "array([[0, 0],\n",
       "       [0, 0],\n",
       "       [0, 0]])"
      ]
     },
     "execution_count": 55,
     "metadata": {},
     "output_type": "execute_result"
    }
   ],
   "source": [
    "abc=np.array([[1,2],[3,4],[5,6]])*0\n",
    "abc"
   ]
  },
  {
   "cell_type": "code",
   "execution_count": 57,
   "metadata": {},
   "outputs": [],
   "source": [
    "import random\n",
    "def b_weightsbiasesrandom(layerinfo):\n",
    "    brandom=[[random.uniform(-1, 1) for _ in range(num0)] for num0 in layerinfo[1:]]\n",
    "    wrandom=[np.array([random.uniform(-1, 1) for _ in range(layerinfo[i]*layerinfo[i+1])]).reshape(layerinfo[i+1],layerinfo[i]) for i in range(len(layerinfo)-1)]\n",
    "    return wrandom,brandom"
   ]
  },
  {
   "cell_type": "code",
   "execution_count": 59,
   "metadata": {},
   "outputs": [
    {
     "name": "stdout",
     "output_type": "stream",
     "text": [
      "Cost at #0: 0.12438359156659173\n",
      "Cost at #1000: 0.12388422204600802\n",
      "Cost at #2000: 0.12346237458311114\n",
      "Cost at #3000: 0.12310695273618025\n",
      "Cost at #4000: 0.12280815867048582\n",
      "Cost at #5000: 0.12255743059614749\n",
      "Cost at #6000: 0.12234735101602905\n",
      "Cost at #7000: 0.12217153967793987\n",
      "Cost at #8000: 0.12202454122752426\n",
      "Cost at #9000: 0.12190171436909819\n",
      "[array([-0.47165502,  1.52833906]), array([-1.39079165])]\n",
      "[array([[ 1.01400133,  1.01400133],\n",
      "       [-0.98600157, -0.98600157]]), array([[1.04928982, 1.0484935 ]])]\n",
      "Cost at #0: 0.12179912686800476\n",
      "Cost at #1000: 0.12171345889403523\n",
      "Cost at #2000: 0.12164191590194334\n",
      "Cost at #3000: 0.12158215135858112\n",
      "Cost at #4000: 0.12153219905393729\n",
      "Cost at #5000: 0.12149041438946648\n",
      "Cost at #6000: 0.12145542385353081\n",
      "Cost at #7000: 0.12142608181879892\n",
      "Cost at #8000: 0.12140143379200143\n",
      "Cost at #9000: 0.12138068528531563\n",
      "[array([-0.46318335,  1.53679972]), array([-1.35971274])]\n",
      "[array([[ 1.01790163,  1.01790163],\n",
      "       [-0.98210626, -0.98210626]]), array([[1.08188194, 1.07941622]])]\n"
     ]
    }
   ],
   "source": [
    "xorw,xorb=b_weightsbiasesrandom((2,2,1))\n",
    "\n",
    "xorw,xorb=b_backprop([[0,0],[0,1],[1,0],[1,1]],[[[1,1],[-1,-1]],[[1,1]]],[[-0.5,1.5],[-1.5]],[b_sigmoid for i in range(2)],[[0],[1],[1],[0]],0.001)\n",
    "xorw,xorb=b_backprop([[0,0],[0,1],[1,0],[1,1]],xorw,xorb,[b_sigmoid for i in range(2)],[[0],[1],[1],[0]],0.001)"
   ]
  },
  {
   "cell_type": "code",
   "execution_count": 72,
   "metadata": {},
   "outputs": [
    {
     "name": "stdout",
     "output_type": "stream",
     "text": [
      "Cost at #0: 0.12122192879622562\n",
      "Cost at #1000: 0.12122131048721949\n",
      "Cost at #2000: 0.12122072170809328\n",
      "Cost at #3000: 0.12122016247617534\n",
      "Cost at #4000: 0.12121963281461863\n",
      "Cost at #5000: 0.12121913275156979\n",
      "Cost at #6000: 0.12121866231947581\n",
      "Cost at #7000: 0.12121822155450226\n",
      "Cost at #8000: 0.12121781049604417\n",
      "Cost at #9000: 0.12121742918631315\n",
      "[array([-0.4913363 ,  1.50884128]), array([-1.4534384])]\n",
      "[array([[ 1.00203695,  1.00203695],\n",
      "       [-0.99786346, -0.99786346]]), array([[1.2186274 , 1.20863723]])]\n"
     ]
    }
   ],
   "source": [
    "xorw,xorb=b_backprop([[0,0],[0,1],[1,0],[1,1]],xorw,xorb,[b_sigmoid for i in range(2)],[[0],[1],[1],[0]],0.001)"
   ]
  },
  {
   "cell_type": "code",
   "execution_count": 73,
   "metadata": {},
   "outputs": [
    {
     "name": "stdout",
     "output_type": "stream",
     "text": [
      "[[0.51589699]]\n"
     ]
    }
   ],
   "source": [
    "out00,layer00=b_sequential([1,0],xorw,xorb,[b_sigmoid for i in range(2)])\n",
    "print(out00)"
   ]
  },
  {
   "cell_type": "code",
   "execution_count": 56,
   "metadata": {},
   "outputs": [
    {
     "data": {
      "text/plain": [
       "array([[1, 2]])"
      ]
     },
     "execution_count": 56,
     "metadata": {},
     "output_type": "execute_result"
    }
   ],
   "source": [
    "np.array([1,2]).reshape(1,2)"
   ]
  },
  {
   "cell_type": "code",
   "execution_count": null,
   "metadata": {},
   "outputs": [],
   "source": []
  }
 ],
 "metadata": {
  "kernelspec": {
   "display_name": "Python 3",
   "language": "python",
   "name": "python3"
  },
  "language_info": {
   "codemirror_mode": {
    "name": "ipython",
    "version": 3
   },
   "file_extension": ".py",
   "mimetype": "text/x-python",
   "name": "python",
   "nbconvert_exporter": "python",
   "pygments_lexer": "ipython3",
   "version": "3.11.0"
  }
 },
 "nbformat": 4,
 "nbformat_minor": 2
}
